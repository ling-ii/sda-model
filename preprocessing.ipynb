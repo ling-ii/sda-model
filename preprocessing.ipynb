{
 "cells": [
  {
   "cell_type": "code",
   "execution_count": 1,
   "id": "a629de1e",
   "metadata": {},
   "outputs": [],
   "source": [
    "from sklearn import preprocessing\n",
    "import numpy as np\n",
    "import pandas as pd\n",
    "\n",
    "import manip"
   ]
  },
  {
   "cell_type": "code",
   "execution_count": 2,
   "id": "36f1b4df",
   "metadata": {},
   "outputs": [],
   "source": [
    "data, basenames = manip.loader(\"./data/\")\n",
    "data, basenames = manip.drop_nan(data, basenames)"
   ]
  },
  {
   "cell_type": "code",
   "execution_count": 3,
   "id": "95c2c8dd",
   "metadata": {},
   "outputs": [],
   "source": [
    "mee_data = data[:, :3]"
   ]
  },
  {
   "cell_type": "code",
   "execution_count": 4,
   "id": "6bada6c9",
   "metadata": {},
   "outputs": [],
   "source": [
    "preprocessors = [\n",
    "    # Eccentricity    -> (0, inf)\n",
    "    # Inclination     -> [0, 2*pi)\n",
    "    # Semi-major axis -> (~6.371e6, inf)\n",
    "\n",
    "    preprocessing.RobustScaler,\n",
    "    preprocessing.MinMaxScaler,\n",
    "    preprocessing.RobustScaler,\n",
    "]\n",
    "\n",
    "datasets = [mee_data[:, i].reshape(-1, 1) for i in range(3)]\n",
    "\n",
    "scaling_sets = [\n",
    "    datasets[0],\n",
    "    np.linspace(0, 2*np.pi, 2).reshape(-1, 1),\n",
    "    datasets[2]\n",
    "]\n",
    "\n",
    "scalers = [scaler().fit(ds) for scaler, ds in zip(preprocessors, scaling_sets)]\n",
    "\n",
    "transformed_datasets = [scaler.transform(ds) for scaler, ds in zip(scalers, datasets)]\n",
    "transformed_datasets = np.column_stack(transformed_datasets)"
   ]
  },
  {
   "cell_type": "code",
   "execution_count": null,
   "id": "b3537763",
   "metadata": {},
   "outputs": [
    {
     "ename": "IndexError",
     "evalue": "boolean index did not match indexed array along dimension 0; dimension is 4197753 but corresponding boolean dimension is 7",
     "output_type": "error",
     "traceback": [
      "\u001b[0;31m---------------------------------------------------------------------------\u001b[0m",
      "\u001b[0;31mIndexError\u001b[0m                                Traceback (most recent call last)",
      "Cell \u001b[0;32mIn[5], line 2\u001b[0m\n\u001b[1;32m      1\u001b[0m pairs \u001b[38;5;241m=\u001b[39m manip\u001b[38;5;241m.\u001b[39mgenerate_pairs(transformed_datasets, basenames)\n\u001b[0;32m----> 2\u001b[0m \u001b[43mmanip\u001b[49m\u001b[38;5;241;43m.\u001b[39;49m\u001b[43mbalance_data\u001b[49m\u001b[43m(\u001b[49m\u001b[43mpairs\u001b[49m\u001b[43m)\u001b[49m\n",
      "File \u001b[0;32m~/Documents/Projects/sda-model/manip.py:55\u001b[0m, in \u001b[0;36mbalance_data\u001b[0;34m(data)\u001b[0m\n\u001b[1;32m     52\u001b[0m \u001b[38;5;28;01mdef\u001b[39;00m \u001b[38;5;21mbalance_data\u001b[39m(data: npt\u001b[38;5;241m.\u001b[39mArrayLike) \u001b[38;5;241m-\u001b[39m\u001b[38;5;241m>\u001b[39m npt\u001b[38;5;241m.\u001b[39mArrayLike:\n\u001b[1;32m     54\u001b[0m     is_true \u001b[38;5;241m=\u001b[39m (data[\u001b[38;5;241m-\u001b[39m\u001b[38;5;241m1\u001b[39m] \u001b[38;5;241m==\u001b[39m \u001b[38;5;241m1\u001b[39m)\n\u001b[0;32m---> 55\u001b[0m     data_t \u001b[38;5;241m=\u001b[39m \u001b[43mdata\u001b[49m\u001b[43m[\u001b[49m\u001b[43mis_true\u001b[49m\u001b[43m]\u001b[49m\n\u001b[1;32m     56\u001b[0m     data_f \u001b[38;5;241m=\u001b[39m data[\u001b[38;5;129;01mnot\u001b[39;00m is_true]\n\u001b[1;32m     57\u001b[0m     \u001b[38;5;28;01mreturn\u001b[39;00m data_f\n",
      "\u001b[0;31mIndexError\u001b[0m: boolean index did not match indexed array along dimension 0; dimension is 4197753 but corresponding boolean dimension is 7"
     ]
    }
   ],
   "source": [
    "pairs = manip.generate_pairs(transformed_datasets, basenames)\n",
    "manip.shuffle_balance_data(pairs)"
   ]
  },
  {
   "cell_type": "code",
   "execution_count": null,
   "id": "d3bb7d88",
   "metadata": {},
   "outputs": [],
   "source": []
  }
 ],
 "metadata": {
  "kernelspec": {
   "display_name": "Python 3",
   "language": "python",
   "name": "python3"
  },
  "language_info": {
   "codemirror_mode": {
    "name": "ipython",
    "version": 3
   },
   "file_extension": ".py",
   "mimetype": "text/x-python",
   "name": "python",
   "nbconvert_exporter": "python",
   "pygments_lexer": "ipython3",
   "version": "3.10.12"
  }
 },
 "nbformat": 4,
 "nbformat_minor": 5
}
