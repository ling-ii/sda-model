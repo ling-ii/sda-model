{
 "cells": [
  {
   "cell_type": "code",
   "execution_count": 1,
   "id": "a629de1e",
   "metadata": {},
   "outputs": [],
   "source": [
    "from sklearn import preprocessing\n",
    "import numpy as np\n",
    "import pandas as pd\n",
    "\n",
    "import manip"
   ]
  },
  {
   "cell_type": "code",
   "execution_count": 2,
   "id": "36f1b4df",
   "metadata": {},
   "outputs": [],
   "source": [
    "data, basenames = manip.loader(\"./data/\")\n",
    "data, basenames = manip.drop_nan(data, basenames)"
   ]
  },
  {
   "cell_type": "code",
   "execution_count": 3,
   "id": "95c2c8dd",
   "metadata": {},
   "outputs": [],
   "source": [
    "mee_data = data[:, :3]"
   ]
  },
  {
   "cell_type": "code",
   "execution_count": 4,
   "id": "6bada6c9",
   "metadata": {},
   "outputs": [],
   "source": [
    "preprocessors = [\n",
    "    # Eccentricity    -> (0, inf)\n",
    "    # Inclination     -> [0, 2*pi)\n",
    "    # Semi-major axis -> (~6.371e6, inf)\n",
    "\n",
    "    preprocessing.RobustScaler,\n",
    "    preprocessing.MinMaxScaler,\n",
    "    preprocessing.RobustScaler,\n",
    "]\n",
    "\n",
    "datasets = [mee_data[:, i].reshape(-1, 1) for i in range(3)]\n",
    "\n",
    "scaling_sets = [\n",
    "    datasets[0],\n",
    "    np.linspace(0, 2*np.pi, 2).reshape(-1, 1),\n",
    "    datasets[2]\n",
    "]\n",
    "\n",
    "scalers = [scaler().fit(ds) for scaler, ds in zip(preprocessors, scaling_sets)]\n",
    "\n",
    "transformed_datasets = [scaler.transform(ds) for scaler, ds in zip(scalers, datasets)]\n",
    "transformed_datasets = np.column_stack(transformed_datasets)"
   ]
  },
  {
   "cell_type": "code",
   "execution_count": 5,
   "id": "b3537763",
   "metadata": {},
   "outputs": [
    {
     "data": {
      "text/plain": [
       "array([[-0.54300064,  0.14800441,  0.33895239, ...,  0.14771397,\n",
       "         0.39723575,  1.        ],\n",
       "       [-0.56580824,  0.14854096, -0.46839687, ...,  0.14732344,\n",
       "        -0.5653497 ,  1.        ],\n",
       "       [-0.09247816,  0.14781241, -1.06465638, ...,  0.14773022,\n",
       "        -0.95827395,  1.        ],\n",
       "       ...,\n",
       "       [ 1.39647806,  0.14771749,  0.76291037, ...,  0.14739808,\n",
       "        -0.99278694,  0.        ],\n",
       "       [-0.79843915,  0.14809084,  0.33769614, ...,  0.14659168,\n",
       "        -0.32969859,  0.        ],\n",
       "       [-0.19812681,  0.14792947, -0.16265993, ...,  0.11987447,\n",
       "         0.59077954,  0.        ]])"
      ]
     },
     "execution_count": 5,
     "metadata": {},
     "output_type": "execute_result"
    }
   ],
   "source": [
    "pairs = manip.generate_pairs(transformed_datasets, basenames)\n",
    "manip.shuffle_balance_data(pairs)"
   ]
  },
  {
   "cell_type": "code",
   "execution_count": null,
   "id": "d3bb7d88",
   "metadata": {},
   "outputs": [],
   "source": []
  }
 ],
 "metadata": {
  "kernelspec": {
   "display_name": "Python 3",
   "language": "python",
   "name": "python3"
  },
  "language_info": {
   "codemirror_mode": {
    "name": "ipython",
    "version": 3
   },
   "file_extension": ".py",
   "mimetype": "text/x-python",
   "name": "python",
   "nbconvert_exporter": "python",
   "pygments_lexer": "ipython3",
   "version": "3.10.12"
  }
 },
 "nbformat": 4,
 "nbformat_minor": 5
}
